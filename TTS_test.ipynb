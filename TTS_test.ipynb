{
  "nbformat": 4,
  "nbformat_minor": 0,
  "metadata": {
    "colab": {
      "provenance": []
    },
    "kernelspec": {
      "name": "python3",
      "display_name": "Python 3"
    },
    "language_info": {
      "name": "python"
    }
  },
  "cells": [
    {
      "cell_type": "code",
      "source": [
        "from google.colab import drive\n",
        "drive.mount('/content/drive')"
      ],
      "metadata": {
        "colab": {
          "base_uri": "https://localhost:8080/"
        },
        "id": "u0SzBODI2jRI",
        "outputId": "fe42d0c3-d924-40a0-9972-ee46ed3478fb"
      },
      "execution_count": 2,
      "outputs": [
        {
          "output_type": "stream",
          "name": "stdout",
          "text": [
            "Mounted at /content/drive\n"
          ]
        }
      ]
    },
    {
      "cell_type": "code",
      "execution_count": 3,
      "metadata": {
        "colab": {
          "base_uri": "https://localhost:8080/",
          "height": 429
        },
        "id": "tUgJzbLa0vLk",
        "outputId": "df9d9ecd-609f-4b61-99be-6849f51ac510"
      },
      "outputs": [
        {
          "output_type": "error",
          "ename": "ImportError",
          "evalue": "cannot import name 'Tacotron2ForTextToSpeech' from 'transformers' (/usr/local/lib/python3.10/dist-packages/transformers/__init__.py)",
          "traceback": [
            "\u001b[0;31m---------------------------------------------------------------------------\u001b[0m",
            "\u001b[0;31mImportError\u001b[0m                               Traceback (most recent call last)",
            "\u001b[0;32m<ipython-input-3-8cb5aae07d81>\u001b[0m in \u001b[0;36m<cell line: 4>\u001b[0;34m()\u001b[0m\n\u001b[1;32m      2\u001b[0m \u001b[0;34m\u001b[0m\u001b[0m\n\u001b[1;32m      3\u001b[0m \u001b[0;32mimport\u001b[0m \u001b[0mtorch\u001b[0m\u001b[0;34m\u001b[0m\u001b[0;34m\u001b[0m\u001b[0m\n\u001b[0;32m----> 4\u001b[0;31m \u001b[0;32mfrom\u001b[0m \u001b[0mtransformers\u001b[0m \u001b[0;32mimport\u001b[0m \u001b[0mTacotron2ForTextToSpeech\u001b[0m\u001b[0;34m,\u001b[0m \u001b[0mTacotron2Tokenizer\u001b[0m\u001b[0;34m\u001b[0m\u001b[0;34m\u001b[0m\u001b[0m\n\u001b[0m\u001b[1;32m      5\u001b[0m \u001b[0;34m\u001b[0m\u001b[0m\n\u001b[1;32m      6\u001b[0m \u001b[0;31m# Load pre-trained Tacotron2 model and tokenizer\u001b[0m\u001b[0;34m\u001b[0m\u001b[0;34m\u001b[0m\u001b[0m\n",
            "\u001b[0;31mImportError\u001b[0m: cannot import name 'Tacotron2ForTextToSpeech' from 'transformers' (/usr/local/lib/python3.10/dist-packages/transformers/__init__.py)",
            "",
            "\u001b[0;31m---------------------------------------------------------------------------\u001b[0;32m\nNOTE: If your import is failing due to a missing package, you can\nmanually install dependencies using either !pip or !apt.\n\nTo view examples of installing some common dependencies, click the\n\"Open Examples\" button below.\n\u001b[0;31m---------------------------------------------------------------------------\u001b[0m\n"
          ],
          "errorDetails": {
            "actions": [
              {
                "action": "open_url",
                "actionText": "Open Examples",
                "url": "/notebooks/snippets/importing_libraries.ipynb"
              }
            ]
          }
        }
      ],
      "source": [
        "# !pip install transformers torch\n",
        "\n",
        "import torch\n",
        "from transformers import Tacotron2ForTextToSpeech, Tacotron2Tokenizer\n",
        "\n",
        "# Load pre-trained Tacotron2 model and tokenizer\n",
        "model = Tacotron2ForTextToSpeech.from_pretrained(\"NVIDIA/tacotron2\")\n",
        "tokenizer = Tacotron2Tokenizer.from_pretrained(\"NVIDIA/tacotron2\")\n",
        "\n",
        "def load_dataset():\n",
        "    return [(\"Hello, world!\", \"/content/test-audio.mp3\")]\n",
        "\n",
        "\n",
        "dataset = load_dataset()\n",
        "model.train()\n",
        "\n",
        "for text, audio_path in dataset:\n",
        "    inputs = tokenizer(text, return_tensors=\"pt\")\n",
        "    audio = \"/content/test-audio.mp3\"\n",
        "\n",
        "    outputs = model(**inputs, audio=audio)\n",
        "\n",
        "    loss = outputs.loss\n",
        "    loss.backward()\n",
        "    torch.optim.Adagrad()\n"
      ]
    },
    {
      "cell_type": "code",
      "source": [
        "# pip install TTS\n",
        "\n",
        "import torch\n",
        "from TTS.api import TTS\n",
        "\n",
        "# Get device\n",
        "device = \"cuda\" if torch.cuda.is_available() else \"cpu\"\n",
        "\n",
        "# List available 🐸TTS models\n",
        "print(TTS().list_models())\n",
        "\n",
        "# Init TTS\n",
        "tts = TTS(\"tts_models/multilingual/multi-dataset/xtts_v2\").to(device)\n",
        "\n",
        "# Run TTS\n",
        "# ❗ Since this model is multi-lingual voice cloning model, we must set the target speaker_wav and language\n",
        "# Text to speech list of amplitude values as output\n",
        "wav = tts.tts(text=\"Hello world!\", speaker_wav=\"my/cloning/audio.wav\", language=\"en\")\n",
        "# Text to speech to a file\n",
        "tts.tts_to_file(text=\"Hello world!\", speaker_wav=\"my/cloning/audio.wav\", language=\"en\", file_path=\"output.wav\")"
      ],
      "metadata": {
        "id": "1JoXFUTd_5hb"
      },
      "execution_count": null,
      "outputs": []
    }
  ]
}